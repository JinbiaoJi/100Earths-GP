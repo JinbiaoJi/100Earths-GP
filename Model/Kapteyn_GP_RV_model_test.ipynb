{
 "cells": [
  {
   "cell_type": "code",
   "execution_count": null,
   "metadata": {},
   "outputs": [],
   "source": []
  },
  {
   "cell_type": "markdown",
   "metadata": {},
   "source": [
    "### 1. Get data:"
   ]
  },
  {
   "cell_type": "code",
   "execution_count": 2,
   "metadata": {},
   "outputs": [],
   "source": [
    "import numpy as np\n",
    "from astropy.stats import LombScargle\n",
    "import matplotlib.pyplot as plt\n",
    "%matplotlib inline\n",
    "# Read the data\n",
    "date, rv, rverr, ha, haerr, nad, naderr, fwhm, fwhmerr, bis, biserr = \\\n",
    "    np.loadtxt(\"../data/dbf_HARPS.txt\", unpack=True, \\\n",
    "    usecols=[1,2,3,4,5,6,7,8,9,10,11], skiprows=21)\n",
    "dateH, rvH, rverrH, haH, haerrH = \\\n",
    "    np.loadtxt(\"../data/dbf_HIRES.txt\", unpack=True, \\\n",
    "    usecols=[1,2,3,4,5])\n",
    "first = date[0]\n",
    "date -= first\n",
    "dateH -= first\n",
    "# Put together the HIRES and HARPS measurements of RV and Halpha\n",
    "alldates = np.concatenate((date, dateH))\n",
    "allRV = np.concatenate((rv, rvH))\n",
    "allRVerr = np.concatenate((rverr, rverrH))\n",
    "allha = np.concatenate((ha, haH))\n",
    "allhaerr = np.concatenate((haerr, haerrH))\n",
    "sub = np.argsort(alldates)\n",
    "alldates = alldates[sub]\n",
    "allRV = allRV[sub]\n",
    "allRVerr = allRVerr[sub]\n",
    "allha = allha[sub]\n",
    "allhaerr = allhaerr[sub]\n",
    "# Compute the periodograms\n",
    "xiR, powR = LombScargle(alldates, allRV, allRVerr).autopower()\n",
    "xiH, powH = LombScargle(alldates, allha, allhaerr).autopower()"
   ]
  },
  {
   "cell_type": "markdown",
   "metadata": {},
   "source": [
    "### 2. Gaussian processes:"
   ]
  },
  {
   "cell_type": "code",
   "execution_count": 3,
   "metadata": {},
   "outputs": [],
   "source": [
    "# To install george: $ conda install -c conda-forge george\n",
    "# Most of this code is borrowed from a tutorial in the george documentation:\n",
    "# https://george.readthedocs.io/en/latest/tutorials/hyper/\n",
    "from george import kernels\n",
    "from george import GP\n",
    "from george import modeling\n",
    "from scipy.optimize import minimize\n",
    "from scipy.optimize import Bounds"
   ]
  },
  {
   "cell_type": "code",
   "execution_count": null,
   "metadata": {},
   "outputs": [],
   "source": [
    "# Initial guesses for the hyperparameters\n",
    "constant_guess = 8. # Amplitude of squared-exponential decorrelation kernel\n",
    "metric_guess = 50000. # Decorrelation timescale SQUARED\n",
    "period_guess = 110 # Best-fit rotation period from H alpha\n",
    "gamma_guess = 3. # Represents (1 / Amplitude) of periodic RV signal\n",
    "\n",
    "# Create the kernels\n",
    "kexp2 = constant_guess * kernels.ExpSquaredKernel(metric=metric_guess)\n",
    "kper = kernels.ExpSine2Kernel(gamma=gamma_guess, log_period=np.log(period_guess))\n",
    "krot = kexp2 * kper\n",
    "\n",
    "\n",
    "def whitenoise_RV(time):\n",
    "    return np.log(allRVerr**2)\n",
    "\n",
    "# Initialize the Gaussian process. \n",
    "gp = GP(krot, fit_kernel=True, mean=np.mean(allRV), \\\n",
    "        white_noise=modeling.CallableModel(whitenoise, gradient=None))"
   ]
  }
 ],
 "metadata": {
  "kernelspec": {
   "display_name": "Python 3",
   "language": "python",
   "name": "python3"
  },
  "language_info": {
   "codemirror_mode": {
    "name": "ipython",
    "version": 3
   },
   "file_extension": ".py",
   "mimetype": "text/x-python",
   "name": "python",
   "nbconvert_exporter": "python",
   "pygments_lexer": "ipython3",
   "version": "3.7.2"
  }
 },
 "nbformat": 4,
 "nbformat_minor": 2
}
